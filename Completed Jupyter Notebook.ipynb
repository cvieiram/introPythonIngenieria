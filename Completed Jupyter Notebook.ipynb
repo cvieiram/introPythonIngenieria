{
 "cells": [
  {
   "cell_type": "markdown",
   "id": "bda03289",
   "metadata": {},
   "source": [
    "# Modeling the Spread of an Infectious Disease \n",
    "\n",
    "This notebook will provide an initial model SIR for you to work on your assignment. Here is some key information: \n",
    "\n",
    "### Possible States\n",
    "\n",
    "•\t**Susceptible (S)**: Individuals that have not been infected with the disease, so they are susceptible to be infected within a given probability of disease transmission (i.e., transmission rate) and an average number of contacts per person per time (i.e., contact rate). \n",
    "\n",
    "•\t**Infected (I)**: Individuals who are infected and can be infectious to other people. There is a probability of recovery and a probability of death associated to leaving this state.\n",
    "\n",
    "•\t**Recovered (R)**: Individuals that were already infected but are now recovered. These individuals cannot be infected anymore, since they developed antibodies. Note: This is not necessarily the case for COVID-19, as the evidence about it is inconclusive at this point, but this is the case for other diseases, and an assumption of this model. \n",
    "\n",
    "•\t**Deceased (D)**: Individuals that were infected and died as a result of the disease.\n"
   ]
  },
  {
   "cell_type": "markdown",
   "id": "b2450b49",
   "metadata": {},
   "source": [
    "### These are the variables that may affect our simulation output:\n",
    "\n",
    "•\t**Contact rate**: average number of contacts per person per day.\n",
    "\n",
    "•\t**Transmission Rate**: probability of disease transmission when a susceptible person gets in contact with an infected person.\n",
    "\n",
    "•\t**Recovery rate**: probability of recovery after being infected.\n",
    "\n",
    "•\t**Mortality rate**: probability of dying after being infected.\n",
    "\n",
    "•\t**Recovery Time**: average number of days that the disease stays in the body.\n"
   ]
  },
  {
   "cell_type": "markdown",
   "id": "84aed075",
   "metadata": {},
   "source": [
    "\n",
    "\n",
    "### Here is the **Mathematical Model** that will help us understand the spread of infectious diseases:\n",
    "\n",
    "•\t**NewInfections**: Infected * Contact rate * (Susceptibles/(Total Population))* Transmission rate\n",
    "\n",
    "•\t**NewRecoveries**: Infected*Recovery rate / Recovery Time.\n",
    "\n",
    "•\t**NewDeaths**: Infected*Mortality Rate / Recovery Time.\n",
    "\n",
    "•\t**Susceptibles**: Susceptibles - NewInfections\n",
    "\n",
    "•\t**Infected**: Infected + NewInfections – (NewRecoveries+NewDeaths)\n",
    "\n",
    "•\t**Recovered**: Recovered + NewRecoveries\n",
    "\n",
    "•\t**Deceased**: Deceased + NewDeaths"
   ]
  },
  {
   "cell_type": "markdown",
   "id": "ae3cb987",
   "metadata": {},
   "source": [
    "## Let's get started\n",
    "First, we should define the variables that will work as input in our model"
   ]
  },
  {
   "cell_type": "code",
   "execution_count": 58,
   "id": "967a8e81",
   "metadata": {},
   "outputs": [],
   "source": [
    "ContactRate=2.5\n",
    "TransmissionRate=0.15\n",
    "RecoveryRate= 0.95\n",
    "MortalityRate= 0.05\n",
    "RecoveryTime= 5\n",
    "TotalPopulation=1000000"
   ]
  },
  {
   "cell_type": "markdown",
   "id": "80d31325",
   "metadata": {},
   "source": [
    "Now, we will create our variables that represent a starting point for our model. We assume that we have one person infected, and since our population is one million, the rest are still susceptible to be infected.\n",
    "\n"
   ]
  },
  {
   "cell_type": "code",
   "execution_count": 61,
   "id": "b016e393",
   "metadata": {},
   "outputs": [
    {
     "data": {
      "text/plain": [
       "[<matplotlib.lines.Line2D at 0x269c5178f40>]"
      ]
     },
     "execution_count": 61,
     "metadata": {},
     "output_type": "execute_result"
    },
    {
     "data": {
      "image/png": "[encoded data removed]",
      "text/plain": [
       "<Figure size 432x288 with 1 Axes>"
      ]
     },
     "metadata": {
      "needs_background": "light"
     },
     "output_type": "display_data"
    }
   ],
   "source": [
    "import matplotlib.pyplot as plt\n",
    "Susceptible = 999999\n",
    "Infected = 1\n",
    "Deceased = 0\n",
    "Recovered = 0\n",
    "NewDeaths = 0\n",
    "NewRecoveries = 0\n",
    "NewInfections = 0\n",
    "maxInfected = 1\n",
    "\n",
    "\n",
    "# We will use a loop to iterate through the 365 days of the year. \n",
    "# In each iteration, we will compute all the values for our model, and store them in specific arrays, \n",
    "# so we can later identify the maximums over the year.\n",
    "days=list(range(1,365))\n",
    "listSusceptible=[]\n",
    "listInfected=[]\n",
    "listRecovered=[]\n",
    "listDeaths=[]\n",
    "\n",
    "for i in range(1,365):\n",
    "    NewInfections = Infected * ContactRate * (Susceptible/(TotalPopulation))* TransmissionRate\n",
    "    NewRecoveries =  round(Infected*RecoveryRate / RecoveryTime)\n",
    "    NewDeaths = round(Infected*MortalityRate / RecoveryTime)\n",
    "    \n",
    "    listInfected.append(round(NewInfections))\n",
    "    listRecovered.append(NewRecoveries)\n",
    "    listDeaths.append(NewDeaths)\n",
    "    \n",
    "    Susceptible = Susceptible - NewInfections\n",
    "    listSusceptible.append(Susceptible)\n",
    "    \n",
    "    Infected += (NewInfections-(NewRecoveries+NewDeaths))\n",
    "    Recovered += NewRecoveries\n",
    "    Deceased += NewDeaths\n",
    "    \n",
    "    if maxInfected<Infected:\n",
    "        maxInfected=round(Infected)\n",
    "    \n",
    "plt.plot(days,listInfected, 'c-')\n",
    "plt.plot(days,listRecovered, 'g-')\n",
    "plt.plot(days,listDeaths, 'r-')\n",
    "#plt.plot(days,listSusceptible, 'k-')\n"
   ]
  },
  {
   "cell_type": "markdown",
   "id": "788c8ec2",
   "metadata": {},
   "source": [
    "### Activity\n",
    "Explain the simualtion to each other, and identify how this meets (or not) the requirements of the SIR simulation.\n",
    "\n",
    "Individually, present the following indicators, and discuss the implications of: (1) having a higher or lower contact rate (e.g., with or without confinement),  (2) increasing or decreasing the recovery rate (e.g., finding new treatments or with limited resources to treat those who are infected).\n",
    "\n",
    "•\tTotal number of people who got infected \n",
    "\n",
    "•\tTotal number of people who recovered \n",
    "\n",
    "•\tTotal number of unaffected people\n",
    "\n",
    "•\tTotal number of deaths\n",
    "\n",
    "•\tMax number of people infected in a given date\n",
    "\n",
    "•\tMax number of infections in one day\n",
    "\n",
    "•\tMax number of recovered people in one day\n",
    "\n",
    "•\tMax number of deaths in one day\n"
   ]
  },
  {
   "cell_type": "code",
   "execution_count": 62,
   "id": "eec46ade",
   "metadata": {},
   "outputs": [
    {
     "name": "stdout",
     "output_type": "stream",
     "text": [
      "Total Infections\n",
      "769740\n",
      "Total Recovered\n",
      "731298\n",
      "Total Unaffected\n",
      "230260\n",
      "Total Deaths\n",
      "38481\n",
      "Max number of people infected in a given date\n",
      "137228\n",
      "Max number of infections in one day\n",
      "30025\n",
      "Max number of recovered people in one day\n",
      "26073\n",
      "Max number of deaths in one day\n",
      "1372\n"
     ]
    }
   ],
   "source": [
    "# This is the solution for the indicators that we are asking students to compute. \n",
    "# They will need to understand the simulation in order to compute these accurately\n",
    "# Students will need to run the simulation using different values for the \n",
    "# variables ContactRate, RecoveryRate, and MortalityRate to make conclusions about the effect of different measures\n",
    "\n",
    "print('Total Infections')\n",
    "print(sum(listInfected))\n",
    "print('Total Recovered')\n",
    "print(sum(listRecovered))\n",
    "print('Total Unaffected')\n",
    "print(TotalPopulation-sum(listInfected))\n",
    "print('Total Deaths')\n",
    "print(sum(listDeaths))\n",
    "\n",
    "print('Max number of people infected in a given date')\n",
    "print(maxInfected)\n",
    "print('Max number of infections in one day')\n",
    "print(max(listInfected))\n",
    "print('Max number of recovered people in one day')\n",
    "print(max(listRecovered))\n",
    "print('Max number of deaths in one day')\n",
    "print(max(listDeaths))\n"
   ]
  },
  {
   "cell_type": "code",
   "execution_count": null,
   "id": "795b11a8",
   "metadata": {},
   "outputs": [],
   "source": []
  }
 ],
 "metadata": {
  "kernelspec": {
   "display_name": "Python 3",
   "language": "python",
   "name": "python3"
  },
  "language_info": {
   "codemirror_mode": {
    "name": "ipython",
    "version": 3
   },
   "file_extension": ".py",
   "mimetype": "text/x-python",
   "name": "python",
   "nbconvert_exporter": "python",
   "pygments_lexer": "ipython3",
   "version": "3.8.8"
  }
 },
 "nbformat": 4,
 "nbformat_minor": 5
}
