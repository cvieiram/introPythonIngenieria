{
 "cells": [
  {
   "cell_type": "markdown",
   "id": "374f98d7",
   "metadata": {},
   "source": [
    "# Modeling the Spread of an Infectious Disease \n",
    "\n",
    "This notebook will provide an initial model SIR for you to work on your assignment. Here is some key information: \n",
    "\n",
    "### Possible States\n",
    "\n",
    "•\t**Susceptible (S)**: Individuals that have not been infected with the disease, so they are susceptible to be infected within a given probability of disease transmission (i.e., transmission rate) and an average number of contacts per person per time (i.e., contact rate). \n",
    "\n",
    "•\t**Infected (I)**: Individuals who are infected and can be infectious to other people. There is a probability of recovery and a probability of death associated to leaving this state.\n",
    "\n",
    "•\t**Recovered (R)**: Individuals that were already infected but are now recovered. These individuals cannot be infected anymore, since they developed antibodies. Note: This is not necessarily the case for COVID-19, as the evidence about it is inconclusive at this point, but this is the case for other diseases, and an assumption of this model. \n",
    "\n",
    "•\t**Deceased (D)**: Individuals that were infected and died as a result of the disease.\n"
   ]
  },
  {
   "cell_type": "markdown",
   "id": "97c39e26",
   "metadata": {},
   "source": [
    "### These are the variables that may affect our simulation output:\n",
    "\n",
    "•\t**Contact rate**: average number of contacts per person per day.\n",
    "\n",
    "•\t**Transmission Rate**: probability of disease transmission when a susceptible person gets in contact with an infected person.\n",
    "\n",
    "•\t**Recovery rate**: probability of recovery after being infected.\n",
    "\n",
    "•\t**Mortality rate**: probability of dying after being infected.\n",
    "\n",
    "•\t**Recovery Time**: average number of days that the disease stays in the body.\n"
   ]
  },
  {
   "cell_type": "markdown",
   "id": "90c05c2d",
   "metadata": {},
   "source": [
    "\n",
    "\n",
    "### Here is the **Mathematical Model** that will help us understand the spread of infectious diseases:\n",
    "\n",
    "•\t**NewInfections**: Infected * Contact rate * (Susceptibles/(Total Population))* Transmission rate\n",
    "\n",
    "•\t**NewRecoveries**: Infected*Recovery rate / Recovery Time.\n",
    "\n",
    "•\t**NewDeaths**: Infected*Mortality Rate / Recovery Time.\n",
    "\n",
    "•\t**Susceptibles**: Susceptibles - NewInfections\n",
    "\n",
    "•\t**Infected**: Infected + NewInfections – (NewRecoveries+NewDeaths)\n",
    "\n",
    "•\t**Recovered**: Recovered + NewRecoveries\n",
    "\n",
    "•\t**Deceased**: Deceased + NewDeaths"
   ]
  },
  {
   "cell_type": "markdown",
   "id": "e1d4f56d",
   "metadata": {},
   "source": [
    "## Let's get started\n",
    "First, we should define the variables that will work as input in our model"
   ]
  },
  {
   "cell_type": "code",
   "execution_count": 38,
   "id": "b2089a90",
   "metadata": {},
   "outputs": [],
   "source": [
    "ContactRate=2.5\n",
    "TransmissionRate=0.15\n",
    "RecoveryRate= 0.85\n",
    "MortalityRate= 0.15\n",
    "RecoveryTime= 15\n",
    "TotalPopulation=1000000"
   ]
  },
  {
   "cell_type": "markdown",
   "id": "3ea6f3c9",
   "metadata": {},
   "source": [
    "Now, we will create our variables that represent a starting point for our model. We assume that we have one person infected, and since our population is one million, the rest are still susceptible to be infected.\n",
    "\n"
   ]
  },
  {
   "cell_type": "code",
   "execution_count": 39,
   "id": "b3afb57d",
   "metadata": {},
   "outputs": [
    {
     "data": {
      "text/plain": [
       "[<matplotlib.lines.Line2D at 0x269c4e09e80>]"
      ]
     },
     "execution_count": 39,
     "metadata": {},
     "output_type": "execute_result"
    },
    {
     "data": {
      "image/png": "[encoded data removed]",
      "text/plain": [
       "<Figure size 432x288 with 1 Axes>"
      ]
     },
     "metadata": {
      "needs_background": "light"
     },
     "output_type": "display_data"
    }
   ],
   "source": [
    "import matplotlib.pyplot as plt\n",
    "Susceptible = 999999\n",
    "Infected = 1\n",
    "Deceased = 0\n",
    "Recovered = 0\n",
    "NewDeaths = 0\n",
    "NewRecoveries = 0\n",
    "NewInfections = 0\n",
    "\n",
    "\n",
    "# We will use a loop to iterate through the 365 days of the year. \n",
    "# In each iteration, we will compute all the values for our model, and store them in specific arrays, \n",
    "# so we can later identify the maximums over the year.\n",
    "days=list(range(1,365))\n",
    "listSusceptible=[]\n",
    "listInfected=[]\n",
    "listRecovered=[]\n",
    "listDeaths=[]\n",
    "\n",
    "for i in range(1,365):\n",
    "    NewInfections = Infected * ContactRate * (Susceptible/(TotalPopulation))* TransmissionRate\n",
    "    NewRecoveries =  Infected*RecoveryRate / RecoveryTime\n",
    "    NewDeaths = Infected*MortalityRate / RecoveryTime\n",
    "    listInfected.append(NewInfections)\n",
    "    listRecovered.append(NewRecoveries)\n",
    "    listDeaths.append(NewDeaths)\n",
    "    \n",
    "    Susceptible = Susceptible - NewInfections\n",
    "    listSusceptible.append(Susceptible)\n",
    "    \n",
    "    Infected += (NewInfections-(NewRecoveries+NewDeaths))\n",
    "    Recovered += NewRecoveries\n",
    "    Deceased += NewDeaths\n",
    "    \n",
    "plt.plot(days,listInfected, 'c-')\n",
    "plt.plot(days,listRecovered, 'g-')\n",
    "plt.plot(days,listDeaths, 'r-')\n",
    "#plt.plot(days,listSusceptible, 'k-')\n"
   ]
  },
  {
   "cell_type": "code",
   "execution_count": null,
   "id": "23d9abfa",
   "metadata": {},
   "outputs": [],
   "source": []
  }
 ],
 "metadata": {
  "kernelspec": {
   "display_name": "Python 3",
   "language": "python",
   "name": "python3"
  },
  "language_info": {
   "codemirror_mode": {
    "name": "ipython",
    "version": 3
   },
   "file_extension": ".py",
   "mimetype": "text/x-python",
   "name": "python",
   "nbconvert_exporter": "python",
   "pygments_lexer": "ipython3",
   "version": "3.8.8"
  }
 },
 "nbformat": 4,
 "nbformat_minor": 5
}
