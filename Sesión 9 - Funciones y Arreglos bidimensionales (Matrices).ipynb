{
 "cells": [
  {
   "cell_type": "markdown",
   "metadata": {},
   "source": [
    "## Sesión 9 - Funciones y Arreglos bidimensionales (Matrices)\n",
    "\n",
    "En esta sesión de laboratorio vamos trabajar con **matrices** y **funciones**. Al finalizar esta sesión, estarás en capacidad de:\n",
    "- Escribir un programa que defina e invoque funciones \n",
    "- Resolver problemas que requieran matrices y arreglos bidimensionales"
   ]
  },
  {
   "cell_type": "markdown",
   "metadata": {},
   "source": [
    "Estos Notebooks de Python fueron creados por el profesor Camilo Vieira (PhD) del grupo de *Informática Educativa* para el curso de Algoritmia y Programación I de la Universidad del Norte, en Barranquilla - Colombia. \n",
    "\n",
    "Todos estos materiales cuentan con una licencia **Creative Commons** de libre uso con atribución.\n",
    "\n",
    "**Información de Contacto:** \n",
    "- cvieira@uninorte.edu.co\n",
    "- @cvieiram\n",
    "- https://cvieira77.wixsite.com/personal"
   ]
  },
  {
   "cell_type": "markdown",
   "metadata": {},
   "source": [
    "### Definiendo y Accediendo una Matriz\n",
    "Empecemos por recordar que podemos definir una matriz como una lista de listas, de la siguiente manera:"
   ]
  },
  {
   "cell_type": "code",
   "execution_count": null,
   "metadata": {},
   "outputs": [],
   "source": [
    "miMatriz = [[1, 4, 5], [-5, 8, 9], [-5, 8, 9]]"
   ]
  },
  {
   "cell_type": "markdown",
   "metadata": {},
   "source": [
    "### Actividades\n",
    "- Accede a toda la fila 1\n",
    "- Accede a toda la columna 1\n",
    "- Accede al elemento en la fila 1, columna 1."
   ]
  },
  {
   "cell_type": "code",
   "execution_count": null,
   "metadata": {},
   "outputs": [],
   "source": []
  },
  {
   "cell_type": "markdown",
   "metadata": {},
   "source": [
    "### Transpuesta de una Matrix\n",
    "Ahora que sabemos cómo podemos definir y usar matrices, vamos a comenzar por un ejercicio sencillo: vamos a crear la transpuesta de ua matriz.\n",
    "\n",
    "Recuerda que la transpuesta de una matriz se calcula convirtiendo las filas en columnas y  las columnas en filas, así:\n",
    "<img src=\"https://www.examiron.com/wp-content/uploads/2015/09/Screen-Shot-2015-09-17-at-5.51.20-PM-300x229.png\" width=\"300\">\n",
    "\n",
    "### Actividad\n",
    "Define una función que calcule la transpuesta de una matriz. Asegúrate que funciona también para matrices no cuadradas."
   ]
  },
  {
   "cell_type": "code",
   "execution_count": null,
   "metadata": {},
   "outputs": [],
   "source": []
  },
  {
   "cell_type": "markdown",
   "metadata": {},
   "source": [
    "Ahora, utiliza la función para calcular la transpuesta de la transpuesta, y comparar (elemento por elemento), si la matriz original es la misma que la transpuesta de la transpuestas"
   ]
  },
  {
   "cell_type": "code",
   "execution_count": null,
   "metadata": {},
   "outputs": [],
   "source": []
  },
  {
   "cell_type": "markdown",
   "metadata": {},
   "source": [
    "### Multiplicación de Matrices\n",
    "Ahora vamos a hacer cálculos más interesantes con las matrices. Para multiplicar las matrices A x B sumamos la multiplicación entre los elementos de cada fila de la matriz A con los elementos de cada columna de la matriz B. Por ejemplo, los elementos de la *fila 1* de la matriz A multiplicados por los elementos de la *columna 1* de la matriz B, me darán el valor de la posición 1,1. La siguiente figura muestra el procedimiento genérico:\n",
    "\n",
    "<img src=\"https://intmstat.com/matrices-determinants/2x3x3x2d.png\" width=\"250\">\n",
    "\n",
    "\n",
    "A continuación, te presento el seudocódigo para el algoritmo de multiplicación entre matrices\n",
    "<img src=\"https://d3i71xaburhd42.cloudfront.net/34554863fff31967d31f25dd9933a95f328e7719/3-Figure1-1.png\" width=\"500\">\n",
    "\n",
    "### Actividad\n",
    "Crea una función en Python que calcule la multiplicación entre dos matrices"
   ]
  },
  {
   "cell_type": "code",
   "execution_count": null,
   "metadata": {},
   "outputs": [],
   "source": []
  },
  {
   "cell_type": "markdown",
   "metadata": {},
   "source": [
    "### Resolver sistemas de ecuaciones utilizando matrices\n",
    "Una de las utilidades de utilizar matrices es que nos permiten resolver sistemas de ecuaciones. Por ejemplo, si tenemos las siguinetes ecuaciones \n",
    "\n",
    "\n",
    "$$ x\t+\ty\t+\tz = 6 $$\n",
    "$$ 2y\t+\t5z\t=\t−4 $$\n",
    "$$ 2x\t+\t5y\t−\tz\t=\t27 $$\n",
    "\n",
    "y queremos saber a qué valores corresponden x, y, z, podemos resolver este sistema de la forma Ax=b, donde A es una matriz en la cual cada columna corresponde a una variable (x,y,z) y cada celda corresponde a los coeficientes, así:\n",
    "$$ A= \\begin{bmatrix}\n",
    " 1& 1 & 1\\\\ \n",
    " 0& 2 & 5\\\\ \n",
    " 2& 5 & -1\n",
    "\\end{bmatrix}$$\n",
    "\n",
    "Nota que la segunda ecuación no tiene un valor para X, por lo que la posición 2,1 tiene un valor de cero.\n",
    "\n",
    "Volviendo al sistema de ecuaciones Ax=b, x corresponde al un vector [x,y,z] que queremos encontrar, y b corresponde a un vector con los valores a la derecha de la igualdad. Así, podemos despejar el vector x como: $$x=A^{-1}b$$\n",
    "\n",
    "$A^{-1}$ corresponde a la inversa de una matriz, que no aprenderemos aquí cómo calcular manualmente, pero que podemos usar funciones existentes de Python para calcularla. *Pista:* Explora la siguiente función para hallar la inversa de una matriz en Python: numpy.linalg.inv()\n",
    "\n",
    "### Actividad\n",
    "Crea un programa en Python que reciba una matriz A (3x3) y un vector b que representan un sistema de ecuaciones, y lo resuelvan usando el algoritmo que acabamos de describir.\n",
    "\n",
    "Si quieres conocer más sobre este proceso, puedes explorar el siguiente enlace:\n",
    "https://www.mathsisfun.com/algebra/systems-linear-equations-matrices.html"
   ]
  },
  {
   "cell_type": "code",
   "execution_count": null,
   "metadata": {},
   "outputs": [],
   "source": []
  }
 ],
 "metadata": {
  "kernelspec": {
   "display_name": "Python 3",
   "language": "python",
   "name": "python3"
  },
  "language_info": {
   "codemirror_mode": {
    "name": "ipython",
    "version": 3
   },
   "file_extension": ".py",
   "mimetype": "text/x-python",
   "name": "python",
   "nbconvert_exporter": "python",
   "pygments_lexer": "ipython3",
   "version": "3.6.5"
  }
 },
 "nbformat": 4,
 "nbformat_minor": 2
}
